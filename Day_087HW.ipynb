{
 "cells": [
  {
   "cell_type": "markdown",
   "metadata": {},
   "source": [
    "## Work\n",
    "1. 請改變 reduce_lr 的 patience 和 factor 並比較不同設定下，對訓練/驗證集的影響\n",
    "2. 請將 optimizer 換成 Adam、RMSprop 搭配 reduce_lr 並比較訓練結果"
   ]
  },
  {
   "cell_type": "code",
   "execution_count": 1,
   "metadata": {},
   "outputs": [
    {
     "name": "stderr",
     "output_type": "stream",
     "text": [
      "/anaconda3/lib/python3.6/site-packages/h5py/__init__.py:36: FutureWarning: Conversion of the second argument of issubdtype from `float` to `np.floating` is deprecated. In future, it will be treated as `np.float64 == np.dtype(float).type`.\n",
      "  from ._conv import register_converters as _register_converters\n",
      "Using TensorFlow backend.\n",
      "/anaconda3/lib/python3.6/importlib/_bootstrap.py:219: RuntimeWarning: compiletime version 3.5 of module 'tensorflow.python.framework.fast_tensor_util' does not match runtime version 3.6\n",
      "  return f(*args, **kwds)\n"
     ]
    }
   ],
   "source": [
    "import os\n",
    "import keras\n",
    "import itertools\n",
    "# Disable GPU\n",
    "os.environ[\"CUDA_VISIBLE_DEVICES\"] = \"\""
   ]
  },
  {
   "cell_type": "code",
   "execution_count": 2,
   "metadata": {},
   "outputs": [],
   "source": [
    "train, test = keras.datasets.cifar10.load_data()"
   ]
  },
  {
   "cell_type": "code",
   "execution_count": 3,
   "metadata": {},
   "outputs": [],
   "source": [
    "## 資料前處理\n",
    "def preproc_x(x, flatten=True):\n",
    "    x = x / 255.\n",
    "    if flatten:\n",
    "        x = x.reshape((len(x), -1))\n",
    "    return x\n",
    "\n",
    "def preproc_y(y, num_classes=10):\n",
    "    if y.shape[-1] == 1:\n",
    "        y = keras.utils.to_categorical(y, num_classes)\n",
    "    return y    "
   ]
  },
  {
   "cell_type": "code",
   "execution_count": 4,
   "metadata": {},
   "outputs": [],
   "source": [
    "x_train, y_train = train\n",
    "x_test, y_test = test\n",
    "\n",
    "# Preproc the inputs\n",
    "x_train = preproc_x(x_train)\n",
    "x_test = preproc_x(x_test)\n",
    "\n",
    "# Preprc the outputs\n",
    "y_train = preproc_y(y_train)\n",
    "y_test = preproc_y(y_test)"
   ]
  },
  {
   "cell_type": "code",
   "execution_count": 5,
   "metadata": {},
   "outputs": [],
   "source": [
    "from keras.layers import BatchNormalization\n",
    "def build_mlp(input_shape, output_units=10, num_neurons=[512, 256, 128]):\n",
    "    input_layer = keras.layers.Input(input_shape)\n",
    "    \n",
    "    for i, n_units in enumerate(num_neurons):\n",
    "        if i == 0:\n",
    "            x = keras.layers.Dense(units=n_units, \n",
    "                                   activation=\"relu\", \n",
    "                                   name=\"hidden_layer\"+str(i+1))(input_layer)\n",
    "            x = BatchNormalization()(x)\n",
    "        else:\n",
    "            x = keras.layers.Dense(units=n_units, \n",
    "                                   activation=\"relu\", \n",
    "                                   name=\"hidden_layer\"+str(i+1))(x)\n",
    "            x = BatchNormalization()(x)\n",
    "    \n",
    "    out = keras.layers.Dense(units=output_units, activation=\"softmax\", name=\"output\")(x)\n",
    "    \n",
    "    model = keras.models.Model(inputs=[input_layer], outputs=[out])\n",
    "    return model"
   ]
  },
  {
   "cell_type": "code",
   "execution_count": 6,
   "metadata": {},
   "outputs": [],
   "source": [
    "## 超參數設定\n",
    "\"\"\"\n",
    "Set your hyper-parameters\n",
    "\"\"\"\n",
    "LEARNING_RATE = 1e-3\n",
    "EPOCHS = 50\n",
    "BATCH_SIZE = 1024\n",
    "MOMENTUM = 0.95"
   ]
  },
  {
   "cell_type": "code",
   "execution_count": 7,
   "metadata": {},
   "outputs": [],
   "source": [
    "# 載入 Callbacks\n",
    "from keras.callbacks import ReduceLROnPlateau\n",
    "\"\"\"\n",
    "Set model checkpoint callbacks\n",
    "Write your training loop and show the results\n",
    "\"\"\"\n",
    "reduce_lr = ReduceLROnPlateau(factor=0.3,\n",
    "                              min_lr=1e-12, \n",
    "                              monitor='val_loss', \n",
    "                              patience=7, \n",
    "                              verbose=1)"
   ]
  },
  {
   "cell_type": "code",
   "execution_count": 8,
   "metadata": {
    "scrolled": true
   },
   "outputs": [
    {
     "name": "stdout",
     "output_type": "stream",
     "text": [
      "_________________________________________________________________\n",
      "Layer (type)                 Output Shape              Param #   \n",
      "=================================================================\n",
      "input_1 (InputLayer)         (None, 3072)              0         \n",
      "_________________________________________________________________\n",
      "hidden_layer1 (Dense)        (None, 512)               1573376   \n",
      "_________________________________________________________________\n",
      "batch_normalization_1 (Batch (None, 512)               2048      \n",
      "_________________________________________________________________\n",
      "hidden_layer2 (Dense)        (None, 256)               131328    \n",
      "_________________________________________________________________\n",
      "batch_normalization_2 (Batch (None, 256)               1024      \n",
      "_________________________________________________________________\n",
      "hidden_layer3 (Dense)        (None, 128)               32896     \n",
      "_________________________________________________________________\n",
      "batch_normalization_3 (Batch (None, 128)               512       \n",
      "_________________________________________________________________\n",
      "output (Dense)               (None, 10)                1290      \n",
      "=================================================================\n",
      "Total params: 1,742,474\n",
      "Trainable params: 1,740,682\n",
      "Non-trainable params: 1,792\n",
      "_________________________________________________________________\n",
      "Train on 50000 samples, validate on 10000 samples\n",
      "Epoch 1/50\n",
      "50000/50000 [==============================] - 8s 162us/step - loss: 2.1800 - acc: 0.2746 - val_loss: 2.1357 - val_acc: 0.3139\n",
      "Epoch 2/50\n",
      "50000/50000 [==============================] - 7s 138us/step - loss: 1.7482 - acc: 0.3919 - val_loss: 1.7879 - val_acc: 0.3848\n",
      "Epoch 3/50\n",
      "50000/50000 [==============================] - 7s 134us/step - loss: 1.6220 - acc: 0.4323 - val_loss: 1.6986 - val_acc: 0.4058\n",
      "Epoch 4/50\n",
      "50000/50000 [==============================] - 6s 128us/step - loss: 1.5500 - acc: 0.4548 - val_loss: 1.6157 - val_acc: 0.4297\n",
      "Epoch 5/50\n",
      "50000/50000 [==============================] - 6s 127us/step - loss: 1.4929 - acc: 0.4743 - val_loss: 1.5832 - val_acc: 0.4471\n",
      "Epoch 6/50\n",
      "50000/50000 [==============================] - 6s 126us/step - loss: 1.4476 - acc: 0.4925 - val_loss: 1.5525 - val_acc: 0.4537\n",
      "Epoch 7/50\n",
      "50000/50000 [==============================] - 6s 127us/step - loss: 1.4085 - acc: 0.5073 - val_loss: 1.5398 - val_acc: 0.4619\n",
      "Epoch 8/50\n",
      "50000/50000 [==============================] - 6s 129us/step - loss: 1.3730 - acc: 0.5188 - val_loss: 1.5187 - val_acc: 0.4628\n",
      "Epoch 9/50\n",
      "50000/50000 [==============================] - 7s 147us/step - loss: 1.3405 - acc: 0.5309 - val_loss: 1.4997 - val_acc: 0.4702\n",
      "Epoch 10/50\n",
      "50000/50000 [==============================] - 7s 135us/step - loss: 1.3100 - acc: 0.5418 - val_loss: 1.4924 - val_acc: 0.4720\n",
      "Epoch 11/50\n",
      "50000/50000 [==============================] - 6s 130us/step - loss: 1.2826 - acc: 0.5518 - val_loss: 1.4836 - val_acc: 0.4749\n",
      "Epoch 12/50\n",
      "50000/50000 [==============================] - 6s 127us/step - loss: 1.2548 - acc: 0.5613 - val_loss: 1.4792 - val_acc: 0.4815\n",
      "Epoch 13/50\n",
      "50000/50000 [==============================] - 6s 127us/step - loss: 1.2277 - acc: 0.5724 - val_loss: 1.4584 - val_acc: 0.4836\n",
      "Epoch 14/50\n",
      "50000/50000 [==============================] - 7s 139us/step - loss: 1.2041 - acc: 0.5811 - val_loss: 1.4620 - val_acc: 0.4820\n",
      "Epoch 15/50\n",
      "50000/50000 [==============================] - 7s 139us/step - loss: 1.1793 - acc: 0.5923 - val_loss: 1.4630 - val_acc: 0.4842\n",
      "Epoch 16/50\n",
      "50000/50000 [==============================] - 7s 131us/step - loss: 1.1561 - acc: 0.5997 - val_loss: 1.4617 - val_acc: 0.4888\n",
      "Epoch 17/50\n",
      "50000/50000 [==============================] - 6s 127us/step - loss: 1.1337 - acc: 0.6094 - val_loss: 1.4525 - val_acc: 0.4867\n",
      "Epoch 18/50\n",
      "50000/50000 [==============================] - 7s 139us/step - loss: 1.1110 - acc: 0.6163 - val_loss: 1.4719 - val_acc: 0.4879\n",
      "Epoch 19/50\n",
      "50000/50000 [==============================] - 7s 138us/step - loss: 1.0876 - acc: 0.6281 - val_loss: 1.4485 - val_acc: 0.4927\n",
      "Epoch 20/50\n",
      "50000/50000 [==============================] - 6s 128us/step - loss: 1.0652 - acc: 0.6362 - val_loss: 1.4491 - val_acc: 0.4966\n",
      "Epoch 21/50\n",
      "50000/50000 [==============================] - 6s 126us/step - loss: 1.0436 - acc: 0.6450 - val_loss: 1.4573 - val_acc: 0.4960\n",
      "Epoch 22/50\n",
      "50000/50000 [==============================] - 6s 128us/step - loss: 1.0225 - acc: 0.6514 - val_loss: 1.4510 - val_acc: 0.4952\n",
      "Epoch 23/50\n",
      "50000/50000 [==============================] - 6s 128us/step - loss: 1.0008 - acc: 0.6601 - val_loss: 1.4388 - val_acc: 0.5001\n",
      "Epoch 24/50\n",
      "50000/50000 [==============================] - 6s 129us/step - loss: 0.9804 - acc: 0.6691 - val_loss: 1.4358 - val_acc: 0.4980\n",
      "Epoch 25/50\n",
      "50000/50000 [==============================] - 7s 139us/step - loss: 0.9609 - acc: 0.6745 - val_loss: 1.4613 - val_acc: 0.4984\n",
      "Epoch 26/50\n",
      "50000/50000 [==============================] - 7s 133us/step - loss: 0.9393 - acc: 0.6846 - val_loss: 1.4504 - val_acc: 0.4981\n",
      "Epoch 27/50\n",
      "50000/50000 [==============================] - 6s 127us/step - loss: 0.9196 - acc: 0.6924 - val_loss: 1.4536 - val_acc: 0.5041\n",
      "Epoch 28/50\n",
      "50000/50000 [==============================] - 6s 128us/step - loss: 0.9013 - acc: 0.6984 - val_loss: 1.4678 - val_acc: 0.5022\n",
      "Epoch 29/50\n",
      "50000/50000 [==============================] - 6s 129us/step - loss: 0.8793 - acc: 0.7078 - val_loss: 1.4625 - val_acc: 0.5000\n",
      "Epoch 30/50\n",
      "50000/50000 [==============================] - 6s 129us/step - loss: 0.8605 - acc: 0.7147 - val_loss: 1.4753 - val_acc: 0.4953\n",
      "Epoch 31/50\n",
      "50000/50000 [==============================] - 6s 128us/step - loss: 0.8399 - acc: 0.7254 - val_loss: 1.4817 - val_acc: 0.4954\n",
      "\n",
      "Epoch 00031: ReduceLROnPlateau reducing learning rate to 0.0003000000142492354.\n",
      "Epoch 32/50\n",
      "50000/50000 [==============================] - 6s 128us/step - loss: 0.8123 - acc: 0.7368 - val_loss: 1.4652 - val_acc: 0.5029\n",
      "Epoch 33/50\n",
      "50000/50000 [==============================] - 6s 128us/step - loss: 0.7919 - acc: 0.7467 - val_loss: 1.4610 - val_acc: 0.5069\n",
      "Epoch 34/50\n",
      "50000/50000 [==============================] - 6s 129us/step - loss: 0.7837 - acc: 0.7487 - val_loss: 1.4644 - val_acc: 0.5021\n",
      "Epoch 35/50\n",
      "50000/50000 [==============================] - 7s 134us/step - loss: 0.7762 - acc: 0.7529 - val_loss: 1.4669 - val_acc: 0.5073\n",
      "Epoch 36/50\n",
      "50000/50000 [==============================] - 7s 141us/step - loss: 0.7701 - acc: 0.7559 - val_loss: 1.4704 - val_acc: 0.5060\n",
      "Epoch 37/50\n",
      "50000/50000 [==============================] - 8s 158us/step - loss: 0.7632 - acc: 0.7575 - val_loss: 1.4743 - val_acc: 0.5049\n",
      "Epoch 38/50\n",
      "50000/50000 [==============================] - 7s 135us/step - loss: 0.7572 - acc: 0.7594 - val_loss: 1.4731 - val_acc: 0.5083\n",
      "\n",
      "Epoch 00038: ReduceLROnPlateau reducing learning rate to 9.000000427477062e-05.\n",
      "Epoch 39/50\n",
      "50000/50000 [==============================] - 7s 134us/step - loss: 0.7477 - acc: 0.7642 - val_loss: 1.4745 - val_acc: 0.5023\n",
      "Epoch 40/50\n",
      "50000/50000 [==============================] - 7s 137us/step - loss: 0.7402 - acc: 0.7689 - val_loss: 1.4727 - val_acc: 0.5051\n",
      "Epoch 41/50\n",
      "50000/50000 [==============================] - 7s 132us/step - loss: 0.7374 - acc: 0.7699 - val_loss: 1.4745 - val_acc: 0.5081\n",
      "Epoch 42/50\n",
      "50000/50000 [==============================] - 6s 128us/step - loss: 0.7355 - acc: 0.7712 - val_loss: 1.4746 - val_acc: 0.5079\n",
      "Epoch 43/50\n",
      "50000/50000 [==============================] - 7s 132us/step - loss: 0.7342 - acc: 0.7710 - val_loss: 1.4752 - val_acc: 0.5067\n",
      "Epoch 44/50\n",
      "50000/50000 [==============================] - 6s 128us/step - loss: 0.7321 - acc: 0.7714 - val_loss: 1.4766 - val_acc: 0.5068\n",
      "Epoch 45/50\n",
      "50000/50000 [==============================] - 7s 133us/step - loss: 0.7285 - acc: 0.7745 - val_loss: 1.4804 - val_acc: 0.5040\n",
      "\n",
      "Epoch 00045: ReduceLROnPlateau reducing learning rate to 2.700000040931627e-05.\n",
      "Epoch 46/50\n",
      "50000/50000 [==============================] - 6s 130us/step - loss: 0.7271 - acc: 0.7748 - val_loss: 1.4777 - val_acc: 0.5071\n",
      "Epoch 47/50\n",
      "50000/50000 [==============================] - 7s 136us/step - loss: 0.7250 - acc: 0.7765 - val_loss: 1.4781 - val_acc: 0.5065\n"
     ]
    },
    {
     "name": "stdout",
     "output_type": "stream",
     "text": [
      "Epoch 48/50\n",
      "50000/50000 [==============================] - 7s 135us/step - loss: 0.7235 - acc: 0.7760 - val_loss: 1.4787 - val_acc: 0.5062\n",
      "Epoch 49/50\n",
      "50000/50000 [==============================] - 7s 135us/step - loss: 0.7231 - acc: 0.7757 - val_loss: 1.4785 - val_acc: 0.5058\n",
      "Epoch 50/50\n",
      "50000/50000 [==============================] - 7s 134us/step - loss: 0.7228 - acc: 0.7768 - val_loss: 1.4794 - val_acc: 0.5069\n"
     ]
    },
    {
     "data": {
      "text/plain": [
       "<Figure size 640x480 with 1 Axes>"
      ]
     },
     "metadata": {},
     "output_type": "display_data"
    },
    {
     "data": {
      "text/plain": [
       "<Figure size 640x480 with 1 Axes>"
      ]
     },
     "metadata": {},
     "output_type": "display_data"
    }
   ],
   "source": [
    "# 繪製結果\n",
    "\"\"\"\n",
    "plot the results\n",
    "\"\"\"\n",
    "import matplotlib.pyplot as plt\n",
    "model = build_mlp(input_shape=x_train.shape[1:])\n",
    "model.summary()\n",
    "optimizer = keras.optimizers.SGD(lr=LEARNING_RATE, nesterov=True, momentum=MOMENTUM)\n",
    "model.compile(loss=\"categorical_crossentropy\", metrics=[\"accuracy\"], optimizer=optimizer)\n",
    "\n",
    "model.fit(x_train, y_train, \n",
    "          epochs=EPOCHS, \n",
    "          batch_size=BATCH_SIZE, \n",
    "          validation_data=(x_test, y_test), \n",
    "          shuffle=True,\n",
    "          callbacks=[reduce_lr]\n",
    "         )\n",
    "\n",
    "# Collect results\n",
    "train_loss = model.history.history[\"loss\"]\n",
    "valid_loss = model.history.history[\"val_loss\"]\n",
    "train_acc = model.history.history[\"acc\"]\n",
    "valid_acc = model.history.history[\"val_acc\"]\n",
    "\n",
    "plt.plot(range(len(train_loss)), train_loss, label=\"train loss\")\n",
    "plt.plot(range(len(valid_loss)), valid_loss, label=\"valid loss\")\n",
    "plt.legend()\n",
    "plt.title(\"Loss\")\n",
    "plt.show()\n",
    "\n",
    "plt.plot(range(len(train_acc)), train_acc, label=\"train accuracy\")\n",
    "plt.plot(range(len(valid_acc)), valid_acc, label=\"valid accuracy\")\n",
    "plt.legend()\n",
    "plt.title(\"Accuracy\")\n",
    "plt.show()"
   ]
  },
  {
   "cell_type": "code",
   "execution_count": null,
   "metadata": {
    "collapsed": true
   },
   "outputs": [],
   "source": []
  }
 ],
 "metadata": {
  "anaconda-cloud": {},
  "kernelspec": {
   "display_name": "Python 3",
   "language": "python",
   "name": "python3"
  },
  "language_info": {
   "codemirror_mode": {
    "name": "ipython",
    "version": 3
   },
   "file_extension": ".py",
   "mimetype": "text/x-python",
   "name": "python",
   "nbconvert_exporter": "python",
   "pygments_lexer": "ipython3",
   "version": "3.6.7"
  }
 },
 "nbformat": 4,
 "nbformat_minor": 2
}
