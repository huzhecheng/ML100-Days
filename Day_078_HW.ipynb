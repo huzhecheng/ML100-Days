{
 "cells": [
  {
   "cell_type": "markdown",
   "metadata": {},
   "source": [
    "## Work\n",
    "1. 請嘗試將 preproc_x 替換成以每筆資料的 min/max 進行標準化至 -1 ~ 1 間，再進行訓練\n",
    "2. 請嘗試將 mlp 疊更深 (e.g 5~10 層)，進行訓練後觀察 learning curve 的走勢\n",
    "3. (optional) 請改用 GPU 進行訓練 (如果你有 GPU 的話)，比較使用 CPU 與 GPU 的訓練速度"
   ]
  },
  {
   "cell_type": "code",
   "execution_count": 1,
   "metadata": {},
   "outputs": [
    {
     "name": "stdout",
     "output_type": "stream",
     "text": [
      "/bin/sh: nvidia-smi: command not found\r\n"
     ]
    }
   ],
   "source": [
    "## 確認硬體資源\n",
    "\"\"\"\n",
    "Your code here\n",
    "\"\"\"\n",
    "# !nvidia-smi"
   ]
  },
  {
   "cell_type": "code",
   "execution_count": 2,
   "metadata": {},
   "outputs": [
    {
     "name": "stderr",
     "output_type": "stream",
     "text": [
      "/anaconda3/lib/python3.6/site-packages/h5py/__init__.py:36: FutureWarning: Conversion of the second argument of issubdtype from `float` to `np.floating` is deprecated. In future, it will be treated as `np.float64 == np.dtype(float).type`.\n",
      "  from ._conv import register_converters as _register_converters\n",
      "Using TensorFlow backend.\n",
      "/anaconda3/lib/python3.6/importlib/_bootstrap.py:219: RuntimeWarning: compiletime version 3.5 of module 'tensorflow.python.framework.fast_tensor_util' does not match runtime version 3.6\n",
      "  return f(*args, **kwds)\n"
     ]
    }
   ],
   "source": [
    "import os\n",
    "import keras\n",
    "\n",
    "# Try to enable GPU (optional)\n"
   ]
  },
  {
   "cell_type": "code",
   "execution_count": 3,
   "metadata": {},
   "outputs": [],
   "source": [
    "train, test = keras.datasets.cifar10.load_data()"
   ]
  },
  {
   "cell_type": "code",
   "execution_count": 4,
   "metadata": {},
   "outputs": [],
   "source": [
    "## 資料前處理\n",
    "\"\"\"\n",
    "Your code here\n",
    "\"\"\"\n",
    "def preproc_x(x, flatten=True):\n",
    "    x = x / 255.\n",
    "    if flatten:\n",
    "        x = x.reshape((len(x), -1))\n",
    "    return x\n",
    "\n",
    "def preproc_y(y, num_classes=10):\n",
    "    if y.shape[-1] == 1:\n",
    "        y = keras.utils.to_categorical(y, num_classes)\n",
    "    return y  "
   ]
  },
  {
   "cell_type": "code",
   "execution_count": 5,
   "metadata": {},
   "outputs": [],
   "source": [
    "x_train, y_train = train\n",
    "x_test, y_test = test\n",
    "\n",
    "# Preproc the inputs\n",
    "x_train = preproc_x(x_train)\n",
    "x_test = preproc_x(x_test)\n",
    "\n",
    "# Preprc the outputs\n",
    "y_train = preproc_y(y_train)\n",
    "y_test = preproc_y(y_test)"
   ]
  },
  {
   "cell_type": "code",
   "execution_count": 6,
   "metadata": {},
   "outputs": [
    {
     "name": "stdout",
     "output_type": "stream",
     "text": [
      "_________________________________________________________________\n",
      "Layer (type)                 Output Shape              Param #   \n",
      "=================================================================\n",
      "input_1 (InputLayer)         (None, 3072)              0         \n",
      "_________________________________________________________________\n",
      "hidden_layer1 (Dense)        (None, 512)               1573376   \n",
      "_________________________________________________________________\n",
      "hidden_layer2 (Dense)        (None, 256)               131328    \n",
      "_________________________________________________________________\n",
      "hidden_layer3 (Dense)        (None, 128)               32896     \n",
      "_________________________________________________________________\n",
      "output (Dense)               (None, 10)                1290      \n",
      "=================================================================\n",
      "Total params: 1,738,890\n",
      "Trainable params: 1,738,890\n",
      "Non-trainable params: 0\n",
      "_________________________________________________________________\n"
     ]
    }
   ],
   "source": [
    "\"\"\"\n",
    "Your code here\n",
    "\"\"\"\n",
    "def build_mlp(input_shape, output_units=10, num_neurons=[512, 256, 128]):\n",
    "    input_layer = keras.layers.Input(input_shape)\n",
    "    \n",
    "    for i, n_units in enumerate(num_neurons):\n",
    "        if i == 0:\n",
    "            x = keras.layers.Dense(units=n_units, activation=\"relu\", name=\"hidden_layer\"+str(i+1))(input_layer)\n",
    "        else:\n",
    "            x = keras.layers.Dense(units=n_units, activation=\"relu\", name=\"hidden_layer\"+str(i+1))(x)\n",
    "    \n",
    "    out = keras.layers.Dense(units=output_units, activation=\"softmax\", name=\"output\")(x)\n",
    "    \n",
    "    model = keras.models.Model(inputs=[input_layer], outputs=[out])\n",
    "    return model\n",
    "\n",
    "model = build_mlp(input_shape=x_train.shape[1:])\n",
    "model.summary()"
   ]
  },
  {
   "cell_type": "code",
   "execution_count": 7,
   "metadata": {},
   "outputs": [],
   "source": [
    "## 超參數設定\n",
    "LEARNING_RATE = 0.001\n",
    "EPOCHS = 100\n",
    "BATCH_SIZE = 256"
   ]
  },
  {
   "cell_type": "code",
   "execution_count": 8,
   "metadata": {},
   "outputs": [],
   "source": [
    "optimizer = keras.optimizers.Adam(lr=LEARNING_RATE)\n",
    "model.compile(loss=\"categorical_crossentropy\", metrics=[\"accuracy\"], optimizer=optimizer)"
   ]
  },
  {
   "cell_type": "code",
   "execution_count": 9,
   "metadata": {},
   "outputs": [
    {
     "name": "stdout",
     "output_type": "stream",
     "text": [
      "Train on 50000 samples, validate on 10000 samples\n",
      "Epoch 1/100\n",
      "50000/50000 [==============================] - 8s 154us/step - loss: 1.9400 - acc: 0.3022 - val_loss: 1.7696 - val_acc: 0.3642\n",
      "Epoch 2/100\n",
      "50000/50000 [==============================] - 7s 142us/step - loss: 1.7001 - acc: 0.3918 - val_loss: 1.6598 - val_acc: 0.3942\n",
      "Epoch 3/100\n",
      "50000/50000 [==============================] - 7s 143us/step - loss: 1.6142 - acc: 0.4266 - val_loss: 1.5976 - val_acc: 0.4312\n",
      "Epoch 4/100\n",
      "50000/50000 [==============================] - 7s 143us/step - loss: 1.5518 - acc: 0.4468 - val_loss: 1.5359 - val_acc: 0.4570\n",
      "Epoch 5/100\n",
      "50000/50000 [==============================] - 7s 143us/step - loss: 1.4998 - acc: 0.4656 - val_loss: 1.5249 - val_acc: 0.4591\n",
      "Epoch 6/100\n",
      "50000/50000 [==============================] - 7s 144us/step - loss: 1.4674 - acc: 0.4780 - val_loss: 1.5326 - val_acc: 0.4497\n",
      "Epoch 7/100\n",
      "50000/50000 [==============================] - 7s 145us/step - loss: 1.4329 - acc: 0.4912 - val_loss: 1.5021 - val_acc: 0.4631\n",
      "Epoch 8/100\n",
      "50000/50000 [==============================] - 7s 144us/step - loss: 1.4040 - acc: 0.5010 - val_loss: 1.4874 - val_acc: 0.4643\n",
      "Epoch 9/100\n",
      "50000/50000 [==============================] - 7s 143us/step - loss: 1.3812 - acc: 0.5093 - val_loss: 1.4243 - val_acc: 0.4975\n",
      "Epoch 10/100\n",
      "50000/50000 [==============================] - 7s 144us/step - loss: 1.3446 - acc: 0.5206 - val_loss: 1.4399 - val_acc: 0.4894\n",
      "Epoch 11/100\n",
      "50000/50000 [==============================] - 7s 148us/step - loss: 1.3113 - acc: 0.5323 - val_loss: 1.4457 - val_acc: 0.4911\n",
      "Epoch 12/100\n",
      "50000/50000 [==============================] - 7s 144us/step - loss: 1.2910 - acc: 0.5369 - val_loss: 1.3994 - val_acc: 0.4975\n",
      "Epoch 13/100\n",
      "50000/50000 [==============================] - 7s 148us/step - loss: 1.2609 - acc: 0.5520 - val_loss: 1.3794 - val_acc: 0.5068\n",
      "Epoch 14/100\n",
      "50000/50000 [==============================] - 8s 157us/step - loss: 1.2407 - acc: 0.5606 - val_loss: 1.3733 - val_acc: 0.5140\n",
      "Epoch 15/100\n",
      "50000/50000 [==============================] - 7s 147us/step - loss: 1.2130 - acc: 0.5699 - val_loss: 1.3517 - val_acc: 0.5190\n",
      "Epoch 16/100\n",
      "50000/50000 [==============================] - 8s 151us/step - loss: 1.1964 - acc: 0.5723 - val_loss: 1.3692 - val_acc: 0.5114\n",
      "Epoch 17/100\n",
      "50000/50000 [==============================] - 7s 148us/step - loss: 1.1773 - acc: 0.5807 - val_loss: 1.3682 - val_acc: 0.5154\n",
      "Epoch 18/100\n",
      "50000/50000 [==============================] - 7s 148us/step - loss: 1.1585 - acc: 0.5865 - val_loss: 1.3669 - val_acc: 0.5131\n",
      "Epoch 19/100\n",
      "50000/50000 [==============================] - 7s 147us/step - loss: 1.1393 - acc: 0.5950 - val_loss: 1.3418 - val_acc: 0.5271\n",
      "Epoch 20/100\n",
      "50000/50000 [==============================] - 7s 147us/step - loss: 1.1156 - acc: 0.6039 - val_loss: 1.3772 - val_acc: 0.5164\n",
      "Epoch 21/100\n",
      "50000/50000 [==============================] - 7s 147us/step - loss: 1.0978 - acc: 0.6064 - val_loss: 1.3457 - val_acc: 0.5238\n",
      "Epoch 22/100\n",
      "50000/50000 [==============================] - 7s 147us/step - loss: 1.0738 - acc: 0.6186 - val_loss: 1.3586 - val_acc: 0.5355\n",
      "Epoch 23/100\n",
      "50000/50000 [==============================] - 7s 148us/step - loss: 1.0578 - acc: 0.6235 - val_loss: 1.3776 - val_acc: 0.5317\n",
      "Epoch 24/100\n",
      "50000/50000 [==============================] - 7s 146us/step - loss: 1.0259 - acc: 0.6334 - val_loss: 1.3634 - val_acc: 0.5343\n",
      "Epoch 25/100\n",
      "50000/50000 [==============================] - 7s 146us/step - loss: 1.0157 - acc: 0.6372 - val_loss: 1.4152 - val_acc: 0.5179\n",
      "Epoch 26/100\n",
      "50000/50000 [==============================] - 7s 149us/step - loss: 1.0004 - acc: 0.6435 - val_loss: 1.3749 - val_acc: 0.5291\n",
      "Epoch 27/100\n",
      "50000/50000 [==============================] - 8s 152us/step - loss: 0.9812 - acc: 0.6484 - val_loss: 1.3783 - val_acc: 0.5355\n",
      "Epoch 28/100\n",
      "50000/50000 [==============================] - 7s 148us/step - loss: 0.9566 - acc: 0.6591 - val_loss: 1.4224 - val_acc: 0.5305\n",
      "Epoch 29/100\n",
      "50000/50000 [==============================] - 7s 147us/step - loss: 0.9471 - acc: 0.6618 - val_loss: 1.3881 - val_acc: 0.5379\n",
      "Epoch 30/100\n",
      "50000/50000 [==============================] - 8s 152us/step - loss: 0.9263 - acc: 0.6696 - val_loss: 1.4149 - val_acc: 0.5326\n",
      "Epoch 31/100\n",
      "50000/50000 [==============================] - 10s 195us/step - loss: 0.9034 - acc: 0.6766 - val_loss: 1.4660 - val_acc: 0.5247\n",
      "Epoch 32/100\n",
      "50000/50000 [==============================] - 10s 195us/step - loss: 0.8926 - acc: 0.6815 - val_loss: 1.4731 - val_acc: 0.5200\n",
      "Epoch 33/100\n",
      "50000/50000 [==============================] - 8s 155us/step - loss: 0.8770 - acc: 0.6880 - val_loss: 1.4649 - val_acc: 0.5249\n",
      "Epoch 34/100\n",
      "50000/50000 [==============================] - 8s 165us/step - loss: 0.8587 - acc: 0.6914 - val_loss: 1.4984 - val_acc: 0.5271\n",
      "Epoch 35/100\n",
      "50000/50000 [==============================] - 8s 152us/step - loss: 0.8308 - acc: 0.7023 - val_loss: 1.4669 - val_acc: 0.5280\n",
      "Epoch 36/100\n",
      "50000/50000 [==============================] - 8s 159us/step - loss: 0.8096 - acc: 0.7117 - val_loss: 1.4993 - val_acc: 0.5237\n",
      "Epoch 37/100\n",
      "50000/50000 [==============================] - 8s 156us/step - loss: 0.7969 - acc: 0.7146 - val_loss: 1.5336 - val_acc: 0.5291\n",
      "Epoch 38/100\n",
      "50000/50000 [==============================] - 7s 147us/step - loss: 0.7901 - acc: 0.7186 - val_loss: 1.5537 - val_acc: 0.5208\n",
      "Epoch 39/100\n",
      "50000/50000 [==============================] - 7s 148us/step - loss: 0.7678 - acc: 0.7271 - val_loss: 1.5673 - val_acc: 0.5321\n",
      "Epoch 40/100\n",
      "50000/50000 [==============================] - 8s 157us/step - loss: 0.7494 - acc: 0.7310 - val_loss: 1.6161 - val_acc: 0.5173\n",
      "Epoch 41/100\n",
      "50000/50000 [==============================] - 8s 169us/step - loss: 0.7444 - acc: 0.7316 - val_loss: 1.5862 - val_acc: 0.5146\n",
      "Epoch 42/100\n",
      "50000/50000 [==============================] - 8s 157us/step - loss: 0.7210 - acc: 0.7425 - val_loss: 1.6121 - val_acc: 0.5281\n",
      "Epoch 43/100\n",
      "50000/50000 [==============================] - 8s 156us/step - loss: 0.6974 - acc: 0.7491 - val_loss: 1.6511 - val_acc: 0.5286\n",
      "Epoch 44/100\n",
      "50000/50000 [==============================] - 8s 159us/step - loss: 0.6978 - acc: 0.7495 - val_loss: 1.6315 - val_acc: 0.5271\n",
      "Epoch 45/100\n",
      "50000/50000 [==============================] - 8s 162us/step - loss: 0.6786 - acc: 0.7580 - val_loss: 1.7164 - val_acc: 0.5152\n",
      "Epoch 46/100\n",
      "50000/50000 [==============================] - 9s 174us/step - loss: 0.6621 - acc: 0.7632 - val_loss: 1.7308 - val_acc: 0.5202\n",
      "Epoch 47/100\n",
      "50000/50000 [==============================] - 7s 143us/step - loss: 0.6461 - acc: 0.7681 - val_loss: 1.7280 - val_acc: 0.5190\n",
      "Epoch 48/100\n",
      "50000/50000 [==============================] - 7s 140us/step - loss: 0.6320 - acc: 0.7739 - val_loss: 1.8294 - val_acc: 0.5037\n",
      "Epoch 49/100\n",
      "50000/50000 [==============================] - 7s 141us/step - loss: 0.6401 - acc: 0.7697 - val_loss: 1.7620 - val_acc: 0.5208\n",
      "Epoch 50/100\n",
      "50000/50000 [==============================] - 7s 148us/step - loss: 0.6124 - acc: 0.7815 - val_loss: 1.8111 - val_acc: 0.5114\n",
      "Epoch 51/100\n",
      "50000/50000 [==============================] - 7s 144us/step - loss: 0.6058 - acc: 0.7845 - val_loss: 1.8141 - val_acc: 0.5243\n",
      "Epoch 52/100\n",
      "50000/50000 [==============================] - 9s 187us/step - loss: 0.5888 - acc: 0.7893 - val_loss: 1.8618 - val_acc: 0.5171\n",
      "Epoch 53/100\n",
      "50000/50000 [==============================] - 7s 146us/step - loss: 0.5837 - acc: 0.7905 - val_loss: 1.9221 - val_acc: 0.5135\n",
      "Epoch 54/100\n",
      "50000/50000 [==============================] - 8s 153us/step - loss: 0.5588 - acc: 0.7983 - val_loss: 1.8718 - val_acc: 0.5205\n",
      "Epoch 55/100\n",
      "50000/50000 [==============================] - 7s 147us/step - loss: 0.5570 - acc: 0.7995 - val_loss: 1.8963 - val_acc: 0.5215\n",
      "Epoch 56/100\n",
      "50000/50000 [==============================] - 8s 153us/step - loss: 0.5388 - acc: 0.8062 - val_loss: 2.0010 - val_acc: 0.5156\n",
      "Epoch 57/100\n",
      "50000/50000 [==============================] - 7s 149us/step - loss: 0.5267 - acc: 0.8105 - val_loss: 1.9989 - val_acc: 0.5102\n",
      "Epoch 58/100\n",
      "50000/50000 [==============================] - 8s 150us/step - loss: 0.5301 - acc: 0.8081 - val_loss: 2.0178 - val_acc: 0.5142\n",
      "Epoch 59/100\n"
     ]
    },
    {
     "name": "stdout",
     "output_type": "stream",
     "text": [
      "50000/50000 [==============================] - 8s 158us/step - loss: 0.5004 - acc: 0.8191 - val_loss: 2.0548 - val_acc: 0.5153\n",
      "Epoch 60/100\n",
      "50000/50000 [==============================] - 8s 152us/step - loss: 0.5035 - acc: 0.8191 - val_loss: 2.0859 - val_acc: 0.5137\n",
      "Epoch 61/100\n",
      "50000/50000 [==============================] - 7s 139us/step - loss: 0.5005 - acc: 0.8201 - val_loss: 2.1097 - val_acc: 0.5120\n",
      "Epoch 62/100\n",
      "50000/50000 [==============================] - 7s 140us/step - loss: 0.4769 - acc: 0.8284 - val_loss: 2.1470 - val_acc: 0.5140\n",
      "Epoch 63/100\n",
      "50000/50000 [==============================] - 7s 145us/step - loss: 0.4820 - acc: 0.8265 - val_loss: 2.1705 - val_acc: 0.5099\n",
      "Epoch 64/100\n",
      "50000/50000 [==============================] - 7s 150us/step - loss: 0.4592 - acc: 0.8370 - val_loss: 2.2731 - val_acc: 0.5110\n",
      "Epoch 65/100\n",
      "50000/50000 [==============================] - 8s 159us/step - loss: 0.4514 - acc: 0.8382 - val_loss: 2.2425 - val_acc: 0.5151\n",
      "Epoch 66/100\n",
      "50000/50000 [==============================] - 8s 160us/step - loss: 0.4553 - acc: 0.8362 - val_loss: 2.2395 - val_acc: 0.5090\n",
      "Epoch 67/100\n",
      "50000/50000 [==============================] - 7s 144us/step - loss: 0.4524 - acc: 0.8372 - val_loss: 2.2379 - val_acc: 0.5160\n",
      "Epoch 68/100\n",
      "50000/50000 [==============================] - 7s 141us/step - loss: 0.4438 - acc: 0.8394 - val_loss: 2.2916 - val_acc: 0.5098\n",
      "Epoch 69/100\n",
      "50000/50000 [==============================] - 7s 145us/step - loss: 0.4185 - acc: 0.8496 - val_loss: 2.3472 - val_acc: 0.5104\n",
      "Epoch 70/100\n",
      "50000/50000 [==============================] - 7s 146us/step - loss: 0.4119 - acc: 0.8518 - val_loss: 2.4060 - val_acc: 0.5011\n",
      "Epoch 71/100\n",
      "50000/50000 [==============================] - 7s 141us/step - loss: 0.4075 - acc: 0.8543 - val_loss: 2.4172 - val_acc: 0.5111\n",
      "Epoch 72/100\n",
      "50000/50000 [==============================] - 7s 139us/step - loss: 0.3947 - acc: 0.8582 - val_loss: 2.4644 - val_acc: 0.5077\n",
      "Epoch 73/100\n",
      "50000/50000 [==============================] - 7s 142us/step - loss: 0.4219 - acc: 0.8480 - val_loss: 2.4806 - val_acc: 0.5048\n",
      "Epoch 74/100\n",
      "50000/50000 [==============================] - 7s 141us/step - loss: 0.3995 - acc: 0.8552 - val_loss: 2.4959 - val_acc: 0.5078\n",
      "Epoch 75/100\n",
      "50000/50000 [==============================] - 8s 168us/step - loss: 0.4021 - acc: 0.8560 - val_loss: 2.4652 - val_acc: 0.5096\n",
      "Epoch 76/100\n",
      "50000/50000 [==============================] - 8s 163us/step - loss: 0.3542 - acc: 0.8722 - val_loss: 2.5271 - val_acc: 0.5153\n",
      "Epoch 77/100\n",
      "50000/50000 [==============================] - 8s 150us/step - loss: 0.3622 - acc: 0.8692 - val_loss: 2.5400 - val_acc: 0.5093\n",
      "Epoch 78/100\n",
      "50000/50000 [==============================] - 8s 168us/step - loss: 0.3731 - acc: 0.8674 - val_loss: 2.5415 - val_acc: 0.5065\n",
      "Epoch 79/100\n",
      "50000/50000 [==============================] - 9s 171us/step - loss: 0.3594 - acc: 0.8714 - val_loss: 2.6403 - val_acc: 0.5054\n",
      "Epoch 80/100\n",
      "50000/50000 [==============================] - 8s 157us/step - loss: 0.3596 - acc: 0.8700 - val_loss: 2.6933 - val_acc: 0.5061\n",
      "Epoch 81/100\n",
      "50000/50000 [==============================] - 7s 142us/step - loss: 0.3427 - acc: 0.8752 - val_loss: 2.7539 - val_acc: 0.5021\n",
      "Epoch 82/100\n",
      "50000/50000 [==============================] - 7s 147us/step - loss: 0.3463 - acc: 0.8758 - val_loss: 2.7638 - val_acc: 0.5042\n",
      "Epoch 83/100\n",
      "50000/50000 [==============================] - 8s 164us/step - loss: 0.3305 - acc: 0.8821 - val_loss: 2.7799 - val_acc: 0.5100\n",
      "Epoch 84/100\n",
      "50000/50000 [==============================] - 7s 150us/step - loss: 0.3464 - acc: 0.8758 - val_loss: 2.6741 - val_acc: 0.5061\n",
      "Epoch 85/100\n",
      "50000/50000 [==============================] - 7s 145us/step - loss: 0.3445 - acc: 0.8750 - val_loss: 2.8041 - val_acc: 0.5027\n",
      "Epoch 86/100\n",
      "50000/50000 [==============================] - 7s 149us/step - loss: 0.3179 - acc: 0.8870 - val_loss: 2.8363 - val_acc: 0.5049\n",
      "Epoch 87/100\n",
      "50000/50000 [==============================] - 8s 157us/step - loss: 0.3337 - acc: 0.8794 - val_loss: 2.8439 - val_acc: 0.5072\n",
      "Epoch 88/100\n",
      "50000/50000 [==============================] - 8s 167us/step - loss: 0.3026 - acc: 0.8916 - val_loss: 2.8744 - val_acc: 0.5080\n",
      "Epoch 89/100\n",
      "50000/50000 [==============================] - 9s 174us/step - loss: 0.3111 - acc: 0.8886 - val_loss: 2.8546 - val_acc: 0.5041\n",
      "Epoch 90/100\n",
      "50000/50000 [==============================] - 7s 142us/step - loss: 0.2872 - acc: 0.8953 - val_loss: 3.0062 - val_acc: 0.5088\n",
      "Epoch 91/100\n",
      "50000/50000 [==============================] - 8s 151us/step - loss: 0.2913 - acc: 0.8953 - val_loss: 2.9377 - val_acc: 0.5085\n",
      "Epoch 92/100\n",
      "50000/50000 [==============================] - 7s 149us/step - loss: 0.3290 - acc: 0.8834 - val_loss: 2.9050 - val_acc: 0.5024\n",
      "Epoch 93/100\n",
      "50000/50000 [==============================] - 8s 154us/step - loss: 0.3051 - acc: 0.8894 - val_loss: 3.0022 - val_acc: 0.5040\n",
      "Epoch 94/100\n",
      "50000/50000 [==============================] - 7s 144us/step - loss: 0.3126 - acc: 0.8856 - val_loss: 2.9534 - val_acc: 0.5087\n",
      "Epoch 95/100\n",
      "50000/50000 [==============================] - 9s 170us/step - loss: 0.2731 - acc: 0.9025 - val_loss: 3.1141 - val_acc: 0.5041\n",
      "Epoch 96/100\n",
      "50000/50000 [==============================] - 9s 172us/step - loss: 0.2739 - acc: 0.9013 - val_loss: 3.0907 - val_acc: 0.5041\n",
      "Epoch 97/100\n",
      "50000/50000 [==============================] - 8s 156us/step - loss: 0.2889 - acc: 0.8959 - val_loss: 3.1022 - val_acc: 0.5051\n",
      "Epoch 98/100\n",
      "50000/50000 [==============================] - 8s 162us/step - loss: 0.2828 - acc: 0.8988 - val_loss: 3.1903 - val_acc: 0.5023\n",
      "Epoch 99/100\n",
      "50000/50000 [==============================] - 9s 177us/step - loss: 0.2725 - acc: 0.9020 - val_loss: 3.1231 - val_acc: 0.5012\n",
      "Epoch 100/100\n",
      "50000/50000 [==============================] - 9s 181us/step - loss: 0.2491 - acc: 0.9117 - val_loss: 3.1967 - val_acc: 0.5042\n"
     ]
    },
    {
     "data": {
      "text/plain": [
       "<keras.callbacks.History at 0xb16588780>"
      ]
     },
     "execution_count": 9,
     "metadata": {},
     "output_type": "execute_result"
    }
   ],
   "source": [
    "model.fit(x_train, y_train, \n",
    "          epochs=EPOCHS, \n",
    "          batch_size=BATCH_SIZE, \n",
    "          validation_data=(x_test, y_test), \n",
    "          shuffle=True)"
   ]
  },
  {
   "cell_type": "code",
   "execution_count": 11,
   "metadata": {},
   "outputs": [
    {
     "data": {
      "image/png": "[encoded data removed]",
      "text/plain": [
       "<Figure size 432x288 with 1 Axes>"
      ]
     },
     "metadata": {},
     "output_type": "display_data"
    },
    {
     "data": {
      "image/png": "[encoded data removed]",
      "text/plain": [
       "<Figure size 432x288 with 1 Axes>"
      ]
     },
     "metadata": {},
     "output_type": "display_data"
    }
   ],
   "source": [
    "import matplotlib.pyplot as plt\n",
    "\n",
    "\n",
    "train_loss = model.history.history[\"loss\"]\n",
    "valid_loss = model.history.history[\"val_loss\"]\n",
    "\n",
    "train_acc = model.history.history[\"acc\"]\n",
    "valid_acc = model.history.history[\"val_acc\"]\n",
    "\n",
    "plt.plot(range(len(train_loss)), train_loss, label=\"train loss\")\n",
    "plt.plot(range(len(valid_loss)), valid_loss, label=\"valid loss\")\n",
    "plt.legend()\n",
    "plt.title(\"Loss\")\n",
    "plt.show()\n",
    "\n",
    "plt.plot(range(len(train_acc)), train_acc, label=\"train accuracy\")\n",
    "plt.plot(range(len(valid_acc)), valid_acc, label=\"valid accuracy\")\n",
    "plt.legend()\n",
    "plt.title(\"Accuracy\")\n",
    "plt.show()"
   ]
  },
  {
   "cell_type": "code",
   "execution_count": null,
   "metadata": {},
   "outputs": [],
   "source": []
  }
 ],
 "metadata": {
  "kernelspec": {
   "display_name": "Python 3",
   "language": "python",
   "name": "python3"
  },
  "language_info": {
   "codemirror_mode": {
    "name": "ipython",
    "version": 3
   },
   "file_extension": ".py",
   "mimetype": "text/x-python",
   "name": "python",
   "nbconvert_exporter": "python",
   "pygments_lexer": "ipython3",
   "version": "3.6.7"
  }
 },
 "nbformat": 4,
 "nbformat_minor": 2
}
