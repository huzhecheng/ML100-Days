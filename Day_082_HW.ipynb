{
 "cells": [
  {
   "cell_type": "markdown",
   "metadata": {},
   "source": [
    "## Work\n",
    "1. 請比較使用不同層數以及不同 Dropout rate 對訓練的效果\n",
    "2. 將 optimizer 改成使用 Adam 並加上適當的 dropout rate 檢視結果"
   ]
  },
  {
   "cell_type": "code",
   "execution_count": 1,
   "metadata": {},
   "outputs": [
    {
     "name": "stderr",
     "output_type": "stream",
     "text": [
      "/anaconda3/lib/python3.6/site-packages/h5py/__init__.py:36: FutureWarning: Conversion of the second argument of issubdtype from `float` to `np.floating` is deprecated. In future, it will be treated as `np.float64 == np.dtype(float).type`.\n",
      "  from ._conv import register_converters as _register_converters\n",
      "Using TensorFlow backend.\n",
      "/anaconda3/lib/python3.6/importlib/_bootstrap.py:219: RuntimeWarning: compiletime version 3.5 of module 'tensorflow.python.framework.fast_tensor_util' does not match runtime version 3.6\n",
      "  return f(*args, **kwds)\n"
     ]
    }
   ],
   "source": [
    "import os\n",
    "import keras\n",
    "import itertools\n",
    "# Disable GPU\n",
    "os.environ[\"CUDA_VISIBLE_DEVICES\"] = \"\""
   ]
  },
  {
   "cell_type": "code",
   "execution_count": 2,
   "metadata": {},
   "outputs": [],
   "source": [
    "train, test = keras.datasets.cifar10.load_data()"
   ]
  },
  {
   "cell_type": "code",
   "execution_count": 3,
   "metadata": {},
   "outputs": [],
   "source": [
    "## 資料前處理\n",
    "def preproc_x(x, flatten=True):\n",
    "    x = x / 255.\n",
    "    if flatten:\n",
    "        x = x.reshape((len(x), -1))\n",
    "    return x\n",
    "\n",
    "def preproc_y(y, num_classes=10):\n",
    "    if y.shape[-1] == 1:\n",
    "        y = keras.utils.to_categorical(y, num_classes)\n",
    "    return y    "
   ]
  },
  {
   "cell_type": "code",
   "execution_count": 4,
   "metadata": {},
   "outputs": [],
   "source": [
    "x_train, y_train = train\n",
    "x_test, y_test = test\n",
    "\n",
    "# Preproc the inputs\n",
    "x_train = preproc_x(x_train)\n",
    "x_test = preproc_x(x_test)\n",
    "\n",
    "# Preprc the outputs\n",
    "y_train = preproc_y(y_train)\n",
    "y_test = preproc_y(y_test)"
   ]
  },
  {
   "cell_type": "code",
   "execution_count": 5,
   "metadata": {},
   "outputs": [],
   "source": [
    "from keras.layers import Dropout\n",
    "def build_mlp(input_shape, output_units=10, num_neurons=[512, 256, 128], drp_ratio=0.2):\n",
    "    \"\"\"\n",
    "    Build your own model\n",
    "    \"\"\"\n",
    "    input_layer = keras.layers.Input(input_shape)\n",
    "    \n",
    "    for i, n_units in enumerate(num_neurons):\n",
    "        if i == 0:\n",
    "            x = keras.layers.Dense(units=n_units, \n",
    "                                   activation=\"relu\", \n",
    "                                   name=\"hidden_layer\"+str(i+1))(input_layer)\n",
    "            x = Dropout(drp_ratio)(x)\n",
    "        else:\n",
    "            x = keras.layers.Dense(units=n_units, \n",
    "                                   activation=\"relu\", \n",
    "                                   name=\"hidden_layer\"+str(i+1))(x)\n",
    "            x = Dropout(drp_ratio)(x)\n",
    "    \n",
    "    out = keras.layers.Dense(units=output_units, activation=\"softmax\", name=\"output\")(x)\n",
    "    \n",
    "    model = keras.models.Model(inputs=[input_layer], outputs=[out])\n",
    "    return model"
   ]
  },
  {
   "cell_type": "code",
   "execution_count": 6,
   "metadata": {},
   "outputs": [],
   "source": [
    "## 超參數設定\n",
    "\"\"\"\n",
    "Set Hyper-parameters here\n",
    "\"\"\"\n",
    "LEARNING_RATE = 1e-3\n",
    "EPOCHS = 50\n",
    "BATCH_SIZE = 256\n",
    "MOMENTUM = 0.95\n",
    "Dropout_EXP = 0.25"
   ]
  },
  {
   "cell_type": "code",
   "execution_count": 7,
   "metadata": {
    "scrolled": true
   },
   "outputs": [
    {
     "name": "stdout",
     "output_type": "stream",
     "text": [
      "_________________________________________________________________\n",
      "Layer (type)                 Output Shape              Param #   \n",
      "=================================================================\n",
      "input_1 (InputLayer)         (None, 3072)              0         \n",
      "_________________________________________________________________\n",
      "hidden_layer1 (Dense)        (None, 512)               1573376   \n",
      "_________________________________________________________________\n",
      "dropout_1 (Dropout)          (None, 512)               0         \n",
      "_________________________________________________________________\n",
      "hidden_layer2 (Dense)        (None, 256)               131328    \n",
      "_________________________________________________________________\n",
      "dropout_2 (Dropout)          (None, 256)               0         \n",
      "_________________________________________________________________\n",
      "hidden_layer3 (Dense)        (None, 128)               32896     \n",
      "_________________________________________________________________\n",
      "dropout_3 (Dropout)          (None, 128)               0         \n",
      "_________________________________________________________________\n",
      "output (Dense)               (None, 10)                1290      \n",
      "=================================================================\n",
      "Total params: 1,738,890\n",
      "Trainable params: 1,738,890\n",
      "Non-trainable params: 0\n",
      "_________________________________________________________________\n",
      "Train on 50000 samples, validate on 10000 samples\n",
      "Epoch 1/50\n",
      "50000/50000 [==============================] - 8s 151us/step - loss: 2.1722 - acc: 0.1900 - val_loss: 1.9717 - val_acc: 0.3085\n",
      "Epoch 2/50\n",
      "50000/50000 [==============================] - 7s 148us/step - loss: 1.9786 - acc: 0.2785 - val_loss: 1.8572 - val_acc: 0.3442\n",
      "Epoch 3/50\n",
      "50000/50000 [==============================] - 9s 171us/step - loss: 1.8995 - acc: 0.3139 - val_loss: 1.7979 - val_acc: 0.3657\n",
      "Epoch 4/50\n",
      "50000/50000 [==============================] - 8s 166us/step - loss: 1.8502 - acc: 0.3343 - val_loss: 1.7471 - val_acc: 0.3871\n",
      "Epoch 5/50\n",
      "50000/50000 [==============================] - 9s 183us/step - loss: 1.8129 - acc: 0.3488 - val_loss: 1.7074 - val_acc: 0.3986\n",
      "Epoch 6/50\n",
      "50000/50000 [==============================] - 10s 192us/step - loss: 1.7778 - acc: 0.3632 - val_loss: 1.6729 - val_acc: 0.4104\n",
      "Epoch 7/50\n",
      "50000/50000 [==============================] - 9s 179us/step - loss: 1.7474 - acc: 0.3747 - val_loss: 1.6499 - val_acc: 0.4160\n",
      "Epoch 8/50\n",
      "50000/50000 [==============================] - 8s 151us/step - loss: 1.7246 - acc: 0.3831 - val_loss: 1.6247 - val_acc: 0.4269\n",
      "Epoch 9/50\n",
      "50000/50000 [==============================] - 7s 149us/step - loss: 1.6962 - acc: 0.3934 - val_loss: 1.6022 - val_acc: 0.4280\n",
      "Epoch 10/50\n",
      "50000/50000 [==============================] - 8s 154us/step - loss: 1.6775 - acc: 0.4032 - val_loss: 1.5834 - val_acc: 0.4336\n",
      "Epoch 11/50\n",
      "50000/50000 [==============================] - 8s 150us/step - loss: 1.6560 - acc: 0.4102 - val_loss: 1.5637 - val_acc: 0.4444\n",
      "Epoch 12/50\n",
      "50000/50000 [==============================] - 9s 176us/step - loss: 1.6379 - acc: 0.4181 - val_loss: 1.5429 - val_acc: 0.4486\n",
      "Epoch 13/50\n",
      "50000/50000 [==============================] - 9s 175us/step - loss: 1.6200 - acc: 0.4224 - val_loss: 1.5380 - val_acc: 0.4541\n",
      "Epoch 14/50\n",
      "50000/50000 [==============================] - 8s 156us/step - loss: 1.6060 - acc: 0.4296 - val_loss: 1.5168 - val_acc: 0.4588\n",
      "Epoch 15/50\n",
      "50000/50000 [==============================] - 8s 170us/step - loss: 1.5870 - acc: 0.4342 - val_loss: 1.5011 - val_acc: 0.4635\n",
      "Epoch 16/50\n",
      "50000/50000 [==============================] - 9s 188us/step - loss: 1.5779 - acc: 0.4387 - val_loss: 1.4936 - val_acc: 0.4646\n",
      "Epoch 17/50\n",
      "50000/50000 [==============================] - 8s 153us/step - loss: 1.5656 - acc: 0.4439 - val_loss: 1.4821 - val_acc: 0.4701\n",
      "Epoch 18/50\n",
      "50000/50000 [==============================] - 9s 185us/step - loss: 1.5511 - acc: 0.4470 - val_loss: 1.4773 - val_acc: 0.4781\n",
      "Epoch 19/50\n",
      "50000/50000 [==============================] - 11s 226us/step - loss: 1.5415 - acc: 0.4514 - val_loss: 1.4709 - val_acc: 0.4735\n",
      "Epoch 20/50\n",
      "50000/50000 [==============================] - 10s 202us/step - loss: 1.5243 - acc: 0.4590 - val_loss: 1.4530 - val_acc: 0.4848\n",
      "Epoch 21/50\n",
      "50000/50000 [==============================] - 9s 180us/step - loss: 1.5180 - acc: 0.4596 - val_loss: 1.4475 - val_acc: 0.4787\n",
      "Epoch 22/50\n",
      "50000/50000 [==============================] - 8s 159us/step - loss: 1.4992 - acc: 0.4655 - val_loss: 1.4362 - val_acc: 0.4864\n",
      "Epoch 23/50\n",
      "50000/50000 [==============================] - 7s 146us/step - loss: 1.4911 - acc: 0.4696 - val_loss: 1.4265 - val_acc: 0.4889\n",
      "Epoch 24/50\n",
      "50000/50000 [==============================] - 8s 155us/step - loss: 1.4827 - acc: 0.4720 - val_loss: 1.4202 - val_acc: 0.4908\n",
      "Epoch 25/50\n",
      "50000/50000 [==============================] - 8s 166us/step - loss: 1.4714 - acc: 0.4758 - val_loss: 1.4078 - val_acc: 0.4970\n",
      "Epoch 26/50\n",
      "50000/50000 [==============================] - 8s 166us/step - loss: 1.4652 - acc: 0.4774 - val_loss: 1.4107 - val_acc: 0.4975\n",
      "Epoch 27/50\n",
      "50000/50000 [==============================] - 8s 165us/step - loss: 1.4526 - acc: 0.4796 - val_loss: 1.4029 - val_acc: 0.4971\n",
      "Epoch 28/50\n",
      "50000/50000 [==============================] - 8s 168us/step - loss: 1.4470 - acc: 0.4844 - val_loss: 1.3974 - val_acc: 0.5000\n",
      "Epoch 29/50\n",
      "50000/50000 [==============================] - 8s 164us/step - loss: 1.4350 - acc: 0.4893 - val_loss: 1.3973 - val_acc: 0.4986\n",
      "Epoch 30/50\n",
      "50000/50000 [==============================] - 8s 151us/step - loss: 1.4237 - acc: 0.4907 - val_loss: 1.3806 - val_acc: 0.5079\n",
      "Epoch 31/50\n",
      "50000/50000 [==============================] - 7s 141us/step - loss: 1.4190 - acc: 0.4966 - val_loss: 1.3780 - val_acc: 0.5035\n",
      "Epoch 32/50\n",
      "50000/50000 [==============================] - 7s 149us/step - loss: 1.4092 - acc: 0.4998 - val_loss: 1.3791 - val_acc: 0.5092\n",
      "Epoch 33/50\n",
      "50000/50000 [==============================] - 9s 187us/step - loss: 1.3964 - acc: 0.5033 - val_loss: 1.3686 - val_acc: 0.5139\n",
      "Epoch 34/50\n",
      "50000/50000 [==============================] - 8s 160us/step - loss: 1.3937 - acc: 0.5027 - val_loss: 1.3628 - val_acc: 0.5134\n",
      "Epoch 35/50\n",
      "50000/50000 [==============================] - 7s 142us/step - loss: 1.3809 - acc: 0.5082 - val_loss: 1.3624 - val_acc: 0.5162\n",
      "Epoch 36/50\n",
      "50000/50000 [==============================] - 7s 141us/step - loss: 1.3770 - acc: 0.5097 - val_loss: 1.3528 - val_acc: 0.5181\n",
      "Epoch 37/50\n",
      "50000/50000 [==============================] - 7s 142us/step - loss: 1.3685 - acc: 0.5105 - val_loss: 1.3441 - val_acc: 0.5209\n",
      "Epoch 38/50\n",
      "50000/50000 [==============================] - 8s 153us/step - loss: 1.3598 - acc: 0.5159 - val_loss: 1.3586 - val_acc: 0.5085\n",
      "Epoch 39/50\n",
      "50000/50000 [==============================] - 9s 171us/step - loss: 1.3618 - acc: 0.5113 - val_loss: 1.3561 - val_acc: 0.5115\n",
      "Epoch 40/50\n",
      "50000/50000 [==============================] - 10s 210us/step - loss: 1.3526 - acc: 0.5156 - val_loss: 1.3413 - val_acc: 0.5151\n",
      "Epoch 41/50\n",
      "50000/50000 [==============================] - 9s 188us/step - loss: 1.3422 - acc: 0.5191 - val_loss: 1.3358 - val_acc: 0.5224\n",
      "Epoch 42/50\n",
      "50000/50000 [==============================] - 8s 162us/step - loss: 1.3324 - acc: 0.5243 - val_loss: 1.3378 - val_acc: 0.5212\n",
      "Epoch 43/50\n",
      "50000/50000 [==============================] - 8s 166us/step - loss: 1.3285 - acc: 0.5227 - val_loss: 1.3229 - val_acc: 0.5259\n",
      "Epoch 44/50\n",
      "50000/50000 [==============================] - 9s 190us/step - loss: 1.3230 - acc: 0.5259 - val_loss: 1.3361 - val_acc: 0.5240\n",
      "Epoch 45/50\n",
      "50000/50000 [==============================] - 11s 220us/step - loss: 1.3133 - acc: 0.5325 - val_loss: 1.3341 - val_acc: 0.5247\n",
      "Epoch 46/50\n",
      "50000/50000 [==============================] - 11s 217us/step - loss: 1.3061 - acc: 0.5350 - val_loss: 1.3271 - val_acc: 0.5238\n",
      "Epoch 47/50\n",
      "50000/50000 [==============================] - 9s 182us/step - loss: 1.3008 - acc: 0.5353 - val_loss: 1.3232 - val_acc: 0.5261\n",
      "Epoch 48/50\n",
      "50000/50000 [==============================] - 10s 195us/step - loss: 1.2939 - acc: 0.5341 - val_loss: 1.3177 - val_acc: 0.5258\n",
      "Epoch 49/50\n"
     ]
    },
    {
     "name": "stdout",
     "output_type": "stream",
     "text": [
      "50000/50000 [==============================] - 10s 208us/step - loss: 1.2911 - acc: 0.5363 - val_loss: 1.3121 - val_acc: 0.5315\n",
      "Epoch 50/50\n",
      "50000/50000 [==============================] - 8s 151us/step - loss: 1.2885 - acc: 0.5419 - val_loss: 1.3031 - val_acc: 0.5429\n"
     ]
    }
   ],
   "source": [
    "results = {}\n",
    "\"\"\"\n",
    "Write your training loop and record results\n",
    "\"\"\"\n",
    "model = build_mlp(input_shape=x_train.shape[1:], drp_ratio=Dropout_EXP)\n",
    "model.summary()\n",
    "optimizer = keras.optimizers.SGD(lr=LEARNING_RATE, nesterov=True, momentum=MOMENTUM)\n",
    "model.compile(loss=\"categorical_crossentropy\", metrics=[\"accuracy\"], optimizer=optimizer)\n",
    "\n",
    "model.fit(x_train, y_train, \n",
    "          epochs=EPOCHS, \n",
    "          batch_size=BATCH_SIZE, \n",
    "          validation_data=(x_test, y_test), \n",
    "          shuffle=True)\n",
    "\n",
    "# Collect results\n",
    "train_loss = model.history.history[\"loss\"]\n",
    "valid_loss = model.history.history[\"val_loss\"]\n",
    "train_acc = model.history.history[\"acc\"]\n",
    "valid_acc = model.history.history[\"val_acc\"]"
   ]
  },
  {
   "cell_type": "code",
   "execution_count": 8,
   "metadata": {},
   "outputs": [
    {
     "data": {
      "image/png": "[encoded data removed]",
      "text/plain": [
       "<Figure size 432x288 with 1 Axes>"
      ]
     },
     "metadata": {},
     "output_type": "display_data"
    },
    {
     "data": {
      "image/png": "[encoded data removed]",
      "text/plain": [
       "<Figure size 432x288 with 1 Axes>"
      ]
     },
     "metadata": {},
     "output_type": "display_data"
    }
   ],
   "source": [
    "import matplotlib.pyplot as plt\n",
    "%matplotlib inline\n",
    "\"\"\"\n",
    "Plot results\n",
    "\"\"\"\n",
    "plt.plot(range(len(train_loss)), train_loss, label=\"train loss\")\n",
    "plt.plot(range(len(valid_loss)), valid_loss, label=\"valid loss\")\n",
    "plt.legend()\n",
    "plt.title(\"Loss\")\n",
    "plt.show()\n",
    "\n",
    "plt.plot(range(len(train_acc)), train_acc, label=\"train accuracy\")\n",
    "plt.plot(range(len(valid_acc)), valid_acc, label=\"valid accuracy\")\n",
    "plt.legend()\n",
    "plt.title(\"Accuracy\")\n",
    "plt.show()"
   ]
  }
 ],
 "metadata": {
  "kernelspec": {
   "display_name": "Python 3",
   "language": "python",
   "name": "python3"
  },
  "language_info": {
   "codemirror_mode": {
    "name": "ipython",
    "version": 3
   },
   "file_extension": ".py",
   "mimetype": "text/x-python",
   "name": "python",
   "nbconvert_exporter": "python",
   "pygments_lexer": "ipython3",
   "version": "3.6.7"
  }
 },
 "nbformat": 4,
 "nbformat_minor": 2
}
