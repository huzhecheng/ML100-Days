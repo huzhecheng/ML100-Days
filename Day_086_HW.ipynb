{
 "cells": [
  {
   "cell_type": "markdown",
   "metadata": {},
   "source": [
    "## Work\n",
    "1. 試比較 save_best_only 與否的差異\n",
    "2. 請僅存入將 save_weights_only 設定為 True, 並嘗試 reset ipynb 並將模型與權重重新建回並預測 x_test"
   ]
  },
  {
   "cell_type": "code",
   "execution_count": 1,
   "metadata": {},
   "outputs": [
    {
     "name": "stderr",
     "output_type": "stream",
     "text": [
      "/anaconda3/lib/python3.6/site-packages/h5py/__init__.py:36: FutureWarning: Conversion of the second argument of issubdtype from `float` to `np.floating` is deprecated. In future, it will be treated as `np.float64 == np.dtype(float).type`.\n",
      "  from ._conv import register_converters as _register_converters\n",
      "Using TensorFlow backend.\n",
      "/anaconda3/lib/python3.6/importlib/_bootstrap.py:219: RuntimeWarning: compiletime version 3.5 of module 'tensorflow.python.framework.fast_tensor_util' does not match runtime version 3.6\n",
      "  return f(*args, **kwds)\n"
     ]
    }
   ],
   "source": [
    "import os\n",
    "import keras\n",
    "\n",
    "# Disable GPU\n",
    "os.environ[\"CUDA_VISIBLE_DEVICES\"] = \"\""
   ]
  },
  {
   "cell_type": "code",
   "execution_count": 2,
   "metadata": {},
   "outputs": [],
   "source": [
    "train, test = keras.datasets.cifar10.load_data()"
   ]
  },
  {
   "cell_type": "code",
   "execution_count": 3,
   "metadata": {},
   "outputs": [],
   "source": [
    "## 資料前處理\n",
    "def preproc_x(x, flatten=True):\n",
    "    x = x / 255.\n",
    "    if flatten:\n",
    "        x = x.reshape((len(x), -1))\n",
    "    return x\n",
    "\n",
    "def preproc_y(y, num_classes=10):\n",
    "    if y.shape[-1] == 1:\n",
    "        y = keras.utils.to_categorical(y, num_classes)\n",
    "    return y    "
   ]
  },
  {
   "cell_type": "code",
   "execution_count": 4,
   "metadata": {},
   "outputs": [],
   "source": [
    "x_train, y_train = train\n",
    "x_test, y_test = test\n",
    "\n",
    "# Preproc the inputs\n",
    "x_train = preproc_x(x_train)\n",
    "x_test = preproc_x(x_test)\n",
    "\n",
    "# Preprc the outputs\n",
    "y_train = preproc_y(y_train)\n",
    "y_test = preproc_y(y_test)"
   ]
  },
  {
   "cell_type": "code",
   "execution_count": 5,
   "metadata": {},
   "outputs": [],
   "source": [
    "from keras.layers import BatchNormalization\n",
    "def build_mlp(input_shape, output_units=10, num_neurons=[521, 256, 128]):\n",
    "    \"\"\"\n",
    "    Build your own model\n",
    "    \"\"\"\n",
    "    input_layer = keras.layers.Input(input_shape)\n",
    "    \n",
    "    for i, n_units in enumerate(num_neurons):\n",
    "        if i == 0:\n",
    "            x = keras.layers.Dense(units=n_units,\n",
    "                                   activation=\"relu\",\n",
    "                                   name=\"hidden_layer\"+str(i+1))(input_layer)\n",
    "            x = BatchNormalization()(x)\n",
    "        else:\n",
    "            x = keras.layers.Dense(units=n_units,\n",
    "                                   activation=\"relu\",\n",
    "                                   name=\"hidden_layer\"+str(i+1))(x)\n",
    "            x = BatchNormalization()(x)\n",
    "    \n",
    "    out = keras.layers.Dense(units=output_units, activation=\"softmax\", name=\"output\")(x)\n",
    "    model = keras.models.Model(inputs=[input_layer], outputs=[out])\n",
    "    return model"
   ]
  },
  {
   "cell_type": "code",
   "execution_count": 6,
   "metadata": {},
   "outputs": [],
   "source": [
    "## 超參數設定\n",
    "\"\"\"\n",
    "Set your hyper-parameters\n",
    "\"\"\"\n",
    "LEARNING_RATE = 1e-3\n",
    "EPOCHS = 50\n",
    "BATCH_SIZE = 1024\n",
    "MOMENTUM = 0.95"
   ]
  },
  {
   "cell_type": "code",
   "execution_count": 7,
   "metadata": {},
   "outputs": [],
   "source": [
    "# 載入 Callbacks\n",
    "from keras.callbacks import ModelCheckpoint\n",
    "\"\"\"\n",
    "Set model checkpoint callbacks\n",
    "\"\"\"\n",
    "model_ckpt = ModelCheckpoint(filepath=\"./tmp.h5\",\n",
    "                             monitor=\"val_loss\",\n",
    "                             save_best_only=False)"
   ]
  },
  {
   "cell_type": "code",
   "execution_count": 8,
   "metadata": {
    "scrolled": true
   },
   "outputs": [
    {
     "name": "stdout",
     "output_type": "stream",
     "text": [
      "_________________________________________________________________\n",
      "Layer (type)                 Output Shape              Param #   \n",
      "=================================================================\n",
      "input_1 (InputLayer)         (None, 3072)              0         \n",
      "_________________________________________________________________\n",
      "hidden_layer1 (Dense)        (None, 521)               1601033   \n",
      "_________________________________________________________________\n",
      "batch_normalization_1 (Batch (None, 521)               2084      \n",
      "_________________________________________________________________\n",
      "hidden_layer2 (Dense)        (None, 256)               133632    \n",
      "_________________________________________________________________\n",
      "batch_normalization_2 (Batch (None, 256)               1024      \n",
      "_________________________________________________________________\n",
      "hidden_layer3 (Dense)        (None, 128)               32896     \n",
      "_________________________________________________________________\n",
      "batch_normalization_3 (Batch (None, 128)               512       \n",
      "_________________________________________________________________\n",
      "output (Dense)               (None, 10)                1290      \n",
      "=================================================================\n",
      "Total params: 1,772,471\n",
      "Trainable params: 1,770,661\n",
      "Non-trainable params: 1,810\n",
      "_________________________________________________________________\n",
      "Train on 50000 samples, validate on 10000 samples\n",
      "Epoch 1/50\n",
      "50000/50000 [==============================] - 8s 159us/step - loss: 2.2059 - acc: 0.2739 - val_loss: 2.0347 - val_acc: 0.3296\n",
      "Epoch 2/50\n",
      "50000/50000 [==============================] - 7s 143us/step - loss: 1.7565 - acc: 0.3895 - val_loss: 1.8277 - val_acc: 0.3799\n",
      "Epoch 3/50\n",
      "50000/50000 [==============================] - 7s 147us/step - loss: 1.6292 - acc: 0.4328 - val_loss: 1.7354 - val_acc: 0.4028\n",
      "Epoch 4/50\n",
      "50000/50000 [==============================] - 7s 141us/step - loss: 1.5543 - acc: 0.4603 - val_loss: 1.6601 - val_acc: 0.4238\n",
      "Epoch 5/50\n",
      "50000/50000 [==============================] - 7s 142us/step - loss: 1.4971 - acc: 0.4816 - val_loss: 1.5938 - val_acc: 0.4445\n",
      "Epoch 6/50\n",
      "50000/50000 [==============================] - 7s 141us/step - loss: 1.4504 - acc: 0.4970 - val_loss: 1.5780 - val_acc: 0.4466\n",
      "Epoch 7/50\n",
      "50000/50000 [==============================] - 7s 142us/step - loss: 1.4100 - acc: 0.5106 - val_loss: 1.5510 - val_acc: 0.4593\n",
      "Epoch 8/50\n",
      "50000/50000 [==============================] - 7s 141us/step - loss: 1.3726 - acc: 0.5257 - val_loss: 1.5332 - val_acc: 0.4622\n",
      "Epoch 9/50\n",
      "50000/50000 [==============================] - 7s 142us/step - loss: 1.3387 - acc: 0.5373 - val_loss: 1.5244 - val_acc: 0.4670\n",
      "Epoch 10/50\n",
      "50000/50000 [==============================] - 7s 141us/step - loss: 1.3099 - acc: 0.5485 - val_loss: 1.4993 - val_acc: 0.4734\n",
      "Epoch 11/50\n",
      "50000/50000 [==============================] - 7s 142us/step - loss: 1.2809 - acc: 0.5591 - val_loss: 1.4946 - val_acc: 0.4747\n",
      "Epoch 12/50\n",
      "50000/50000 [==============================] - 7s 145us/step - loss: 1.2519 - acc: 0.5698 - val_loss: 1.4834 - val_acc: 0.4810\n",
      "Epoch 13/50\n",
      "50000/50000 [==============================] - 7s 142us/step - loss: 1.2251 - acc: 0.5796 - val_loss: 1.4837 - val_acc: 0.4756\n",
      "Epoch 14/50\n",
      "50000/50000 [==============================] - 7s 144us/step - loss: 1.1990 - acc: 0.5896 - val_loss: 1.4662 - val_acc: 0.4829\n",
      "Epoch 15/50\n",
      "50000/50000 [==============================] - 7s 141us/step - loss: 1.1737 - acc: 0.6002 - val_loss: 1.4644 - val_acc: 0.4851\n",
      "Epoch 16/50\n",
      "50000/50000 [==============================] - 7s 141us/step - loss: 1.1495 - acc: 0.6083 - val_loss: 1.4642 - val_acc: 0.4866\n",
      "Epoch 17/50\n",
      "50000/50000 [==============================] - 7s 141us/step - loss: 1.1255 - acc: 0.6166 - val_loss: 1.4546 - val_acc: 0.4880\n",
      "Epoch 18/50\n",
      "50000/50000 [==============================] - 7s 141us/step - loss: 1.1021 - acc: 0.6258 - val_loss: 1.4629 - val_acc: 0.4878\n",
      "Epoch 19/50\n",
      "50000/50000 [==============================] - 7s 141us/step - loss: 1.0793 - acc: 0.6336 - val_loss: 1.4511 - val_acc: 0.4964\n",
      "Epoch 20/50\n",
      "50000/50000 [==============================] - 7s 140us/step - loss: 1.0554 - acc: 0.6417 - val_loss: 1.4649 - val_acc: 0.4867\n",
      "Epoch 21/50\n",
      "50000/50000 [==============================] - 7s 142us/step - loss: 1.0324 - acc: 0.6494 - val_loss: 1.4670 - val_acc: 0.4907\n",
      "Epoch 22/50\n",
      "50000/50000 [==============================] - 7s 140us/step - loss: 1.0123 - acc: 0.6594 - val_loss: 1.4654 - val_acc: 0.4969\n",
      "Epoch 23/50\n",
      "50000/50000 [==============================] - 7s 141us/step - loss: 0.9884 - acc: 0.6670 - val_loss: 1.4637 - val_acc: 0.4951\n",
      "Epoch 24/50\n",
      "50000/50000 [==============================] - 7s 142us/step - loss: 0.9676 - acc: 0.6754 - val_loss: 1.4661 - val_acc: 0.4955\n",
      "Epoch 25/50\n",
      "50000/50000 [==============================] - 7s 149us/step - loss: 0.9459 - acc: 0.6855 - val_loss: 1.4547 - val_acc: 0.4974\n",
      "Epoch 26/50\n",
      "50000/50000 [==============================] - 7s 145us/step - loss: 0.9273 - acc: 0.6902 - val_loss: 1.4729 - val_acc: 0.4955\n",
      "Epoch 27/50\n",
      "50000/50000 [==============================] - 8s 153us/step - loss: 0.9050 - acc: 0.7009 - val_loss: 1.4888 - val_acc: 0.4898\n",
      "Epoch 28/50\n",
      "50000/50000 [==============================] - 7s 144us/step - loss: 0.8831 - acc: 0.7100 - val_loss: 1.4835 - val_acc: 0.4983\n",
      "Epoch 29/50\n",
      "50000/50000 [==============================] - 7s 139us/step - loss: 0.8613 - acc: 0.7171 - val_loss: 1.4782 - val_acc: 0.4968\n",
      "Epoch 30/50\n",
      "50000/50000 [==============================] - 7s 138us/step - loss: 0.8442 - acc: 0.7228 - val_loss: 1.4844 - val_acc: 0.4998\n",
      "Epoch 31/50\n",
      "50000/50000 [==============================] - 7s 140us/step - loss: 0.8219 - acc: 0.7340 - val_loss: 1.5193 - val_acc: 0.4813\n",
      "Epoch 32/50\n",
      "50000/50000 [==============================] - 7s 138us/step - loss: 0.8033 - acc: 0.7399 - val_loss: 1.5091 - val_acc: 0.4927\n",
      "Epoch 33/50\n",
      "50000/50000 [==============================] - 7s 139us/step - loss: 0.7821 - acc: 0.7494 - val_loss: 1.5101 - val_acc: 0.4857\n",
      "Epoch 34/50\n",
      "50000/50000 [==============================] - 7s 139us/step - loss: 0.7614 - acc: 0.7565 - val_loss: 1.5230 - val_acc: 0.4913\n",
      "Epoch 35/50\n",
      "50000/50000 [==============================] - 7s 142us/step - loss: 0.7410 - acc: 0.7664 - val_loss: 1.5315 - val_acc: 0.4937\n",
      "Epoch 36/50\n",
      "50000/50000 [==============================] - 7s 138us/step - loss: 0.7229 - acc: 0.7719 - val_loss: 1.5432 - val_acc: 0.4901\n",
      "Epoch 37/50\n",
      "50000/50000 [==============================] - 7s 138us/step - loss: 0.7068 - acc: 0.7777 - val_loss: 1.5341 - val_acc: 0.4933\n",
      "Epoch 38/50\n",
      "50000/50000 [==============================] - 7s 138us/step - loss: 0.6857 - acc: 0.7864 - val_loss: 1.5663 - val_acc: 0.4941\n",
      "Epoch 39/50\n",
      "50000/50000 [==============================] - 7s 139us/step - loss: 0.6670 - acc: 0.7935 - val_loss: 1.5656 - val_acc: 0.4927\n",
      "Epoch 40/50\n",
      "50000/50000 [==============================] - 7s 138us/step - loss: 0.6475 - acc: 0.8005 - val_loss: 1.5846 - val_acc: 0.4915\n",
      "Epoch 41/50\n",
      "50000/50000 [==============================] - 7s 139us/step - loss: 0.6294 - acc: 0.8090 - val_loss: 1.5785 - val_acc: 0.4879\n",
      "Epoch 42/50\n",
      "50000/50000 [==============================] - 7s 138us/step - loss: 0.6130 - acc: 0.8162 - val_loss: 1.5913 - val_acc: 0.4872\n",
      "Epoch 43/50\n",
      "50000/50000 [==============================] - 7s 139us/step - loss: 0.5923 - acc: 0.8249 - val_loss: 1.6023 - val_acc: 0.4911\n",
      "Epoch 44/50\n",
      "50000/50000 [==============================] - 7s 138us/step - loss: 0.5746 - acc: 0.8314 - val_loss: 1.6103 - val_acc: 0.4918\n",
      "Epoch 45/50\n",
      "50000/50000 [==============================] - 7s 138us/step - loss: 0.5584 - acc: 0.8351 - val_loss: 1.6350 - val_acc: 0.4902\n",
      "Epoch 46/50\n",
      "50000/50000 [==============================] - 7s 138us/step - loss: 0.5441 - acc: 0.8420 - val_loss: 1.6508 - val_acc: 0.4876\n",
      "Epoch 47/50\n",
      "50000/50000 [==============================] - 7s 140us/step - loss: 0.5260 - acc: 0.8492 - val_loss: 1.6566 - val_acc: 0.4863\n",
      "Epoch 48/50\n",
      "50000/50000 [==============================] - 7s 142us/step - loss: 0.5070 - acc: 0.8560 - val_loss: 1.6793 - val_acc: 0.4883\n",
      "Epoch 49/50\n"
     ]
    },
    {
     "name": "stdout",
     "output_type": "stream",
     "text": [
      "50000/50000 [==============================] - 7s 137us/step - loss: 0.4918 - acc: 0.8636 - val_loss: 1.6964 - val_acc: 0.4784\n",
      "Epoch 50/50\n",
      "50000/50000 [==============================] - 7s 137us/step - loss: 0.4772 - acc: 0.8675 - val_loss: 1.6846 - val_acc: 0.4881\n",
      "10000/10000 [==============================] - 1s 103us/step\n"
     ]
    }
   ],
   "source": [
    "\"\"\"\n",
    "Write your training loop and show the results\n",
    "\"\"\"\n",
    "model = build_mlp(input_shape=x_train.shape[1:])\n",
    "model.summary()\n",
    "optimizer = keras.optimizers.SGD(lr=LEARNING_RATE, nesterov=True, momentum=MOMENTUM)\n",
    "model.compile(loss=\"categorical_crossentropy\", metrics=[\"accuracy\"], optimizer=optimizer)\n",
    "\n",
    "model.fit(x_train, y_train, \n",
    "          epochs=EPOCHS, \n",
    "          batch_size=BATCH_SIZE, \n",
    "          validation_data=(x_test, y_test), \n",
    "          shuffle=True,\n",
    "          callbacks=[model_ckpt]\n",
    "         )\n",
    "\n",
    "# Collect results\n",
    "train_loss = model.history.history[\"loss\"]\n",
    "valid_loss = model.history.history[\"val_loss\"]\n",
    "train_acc = model.history.history[\"acc\"]\n",
    "valid_acc = model.history.history[\"val_acc\"]\n",
    "\n",
    "# Load back\n",
    "model = keras.models.load_model(\"./tmp.h5\")\n",
    "loss_loadback, acc_loadback = model.evaluate(x_test, y_test)"
   ]
  },
  {
   "cell_type": "code",
   "execution_count": 9,
   "metadata": {},
   "outputs": [
    {
     "data": {
      "image/png": "[encoded data removed]",
      "text/plain": [
       "<Figure size 432x288 with 1 Axes>"
      ]
     },
     "metadata": {},
     "output_type": "display_data"
    },
    {
     "data": {
      "image/png": "[encoded data removed]",
      "text/plain": [
       "<Figure size 432x288 with 1 Axes>"
      ]
     },
     "metadata": {},
     "output_type": "display_data"
    }
   ],
   "source": [
    "import matplotlib.pyplot as plt\n",
    "%matplotlib inline\n",
    "\n",
    "plt.plot(range(len(train_loss)), train_loss, label=\"train loss\")\n",
    "plt.plot(range(len(valid_loss)), valid_loss, label=\"valid loss\")\n",
    "plt.hlines(y=loss_loadback, xmin=0, xmax=len(train_loss), colors='r', linestyles='--')\n",
    "plt.legend()\n",
    "plt.title(\"Loss\")\n",
    "plt.show()\n",
    "\n",
    "plt.plot(range(len(train_acc)), train_acc, label=\"train accuracy\")\n",
    "plt.plot(range(len(valid_acc)), valid_acc, label=\"valid accuracy\")\n",
    "plt.hlines(y=acc_loadback, xmin=0, xmax=len(train_loss), colors='r', linestyles='--')\n",
    "plt.legend()\n",
    "plt.title(\"Accuracy\")\n",
    "plt.show()"
   ]
  },
  {
   "cell_type": "code",
   "execution_count": 10,
   "metadata": {},
   "outputs": [],
   "source": [
    "keras.backend.clear_session()\n",
    "model_ckpt = ModelCheckpoint(filepath=\"./tmp_weights_only.h5\",\n",
    "                             monitor=\"val_loss\",\n",
    "                             save_best_only=True,\n",
    "                             save_weights_only=True)"
   ]
  },
  {
   "cell_type": "code",
   "execution_count": 11,
   "metadata": {
    "scrolled": true
   },
   "outputs": [
    {
     "name": "stdout",
     "output_type": "stream",
     "text": [
      "_________________________________________________________________\n",
      "Layer (type)                 Output Shape              Param #   \n",
      "=================================================================\n",
      "input_1 (InputLayer)         (None, 3072)              0         \n",
      "_________________________________________________________________\n",
      "hidden_layer1 (Dense)        (None, 521)               1601033   \n",
      "_________________________________________________________________\n",
      "batch_normalization_1 (Batch (None, 521)               2084      \n",
      "_________________________________________________________________\n",
      "hidden_layer2 (Dense)        (None, 256)               133632    \n",
      "_________________________________________________________________\n",
      "batch_normalization_2 (Batch (None, 256)               1024      \n",
      "_________________________________________________________________\n",
      "hidden_layer3 (Dense)        (None, 128)               32896     \n",
      "_________________________________________________________________\n",
      "batch_normalization_3 (Batch (None, 128)               512       \n",
      "_________________________________________________________________\n",
      "output (Dense)               (None, 10)                1290      \n",
      "=================================================================\n",
      "Total params: 1,772,471\n",
      "Trainable params: 1,770,661\n",
      "Non-trainable params: 1,810\n",
      "_________________________________________________________________\n",
      "Train on 50000 samples, validate on 10000 samples\n",
      "Epoch 1/50\n",
      "50000/50000 [==============================] - 8s 151us/step - loss: 2.2417 - acc: 0.2633 - val_loss: 2.1738 - val_acc: 0.3089\n",
      "Epoch 2/50\n",
      "50000/50000 [==============================] - 7s 138us/step - loss: 1.7485 - acc: 0.3905 - val_loss: 1.8176 - val_acc: 0.3843\n",
      "Epoch 3/50\n",
      "50000/50000 [==============================] - 7s 138us/step - loss: 1.6232 - acc: 0.4334 - val_loss: 1.6695 - val_acc: 0.4195\n",
      "Epoch 4/50\n",
      "50000/50000 [==============================] - 7s 137us/step - loss: 1.5480 - acc: 0.4581 - val_loss: 1.6398 - val_acc: 0.4265\n",
      "Epoch 5/50\n",
      "50000/50000 [==============================] - 7s 137us/step - loss: 1.4929 - acc: 0.4781 - val_loss: 1.5989 - val_acc: 0.4391\n",
      "Epoch 6/50\n",
      "50000/50000 [==============================] - 7s 140us/step - loss: 1.4461 - acc: 0.4953 - val_loss: 1.5713 - val_acc: 0.4457\n",
      "Epoch 7/50\n",
      "50000/50000 [==============================] - 7s 145us/step - loss: 1.4068 - acc: 0.5108 - val_loss: 1.5413 - val_acc: 0.4562\n",
      "Epoch 8/50\n",
      "50000/50000 [==============================] - 7s 141us/step - loss: 1.3703 - acc: 0.5233 - val_loss: 1.5273 - val_acc: 0.4611\n",
      "Epoch 9/50\n",
      "50000/50000 [==============================] - 7s 140us/step - loss: 1.3392 - acc: 0.5337 - val_loss: 1.5225 - val_acc: 0.4603\n",
      "Epoch 10/50\n",
      "50000/50000 [==============================] - 7s 141us/step - loss: 1.3089 - acc: 0.5452 - val_loss: 1.5035 - val_acc: 0.4633\n",
      "Epoch 11/50\n",
      "50000/50000 [==============================] - 7s 132us/step - loss: 1.2799 - acc: 0.5562 - val_loss: 1.4907 - val_acc: 0.4702\n",
      "Epoch 12/50\n",
      "50000/50000 [==============================] - 7s 132us/step - loss: 1.2545 - acc: 0.5651 - val_loss: 1.4844 - val_acc: 0.4740\n",
      "Epoch 13/50\n",
      "50000/50000 [==============================] - 7s 132us/step - loss: 1.2284 - acc: 0.5735 - val_loss: 1.4687 - val_acc: 0.4810\n",
      "Epoch 14/50\n",
      "50000/50000 [==============================] - 7s 131us/step - loss: 1.2022 - acc: 0.5838 - val_loss: 1.4695 - val_acc: 0.4868\n",
      "Epoch 15/50\n",
      "50000/50000 [==============================] - 7s 136us/step - loss: 1.1785 - acc: 0.5939 - val_loss: 1.4778 - val_acc: 0.4788\n",
      "Epoch 16/50\n",
      "50000/50000 [==============================] - 7s 137us/step - loss: 1.1566 - acc: 0.5999 - val_loss: 1.4627 - val_acc: 0.4857\n",
      "Epoch 17/50\n",
      "50000/50000 [==============================] - 8s 152us/step - loss: 1.1328 - acc: 0.6123 - val_loss: 1.4584 - val_acc: 0.4842\n",
      "Epoch 18/50\n",
      "50000/50000 [==============================] - 7s 139us/step - loss: 1.1101 - acc: 0.6200 - val_loss: 1.4514 - val_acc: 0.4913\n",
      "Epoch 19/50\n",
      "50000/50000 [==============================] - 8s 167us/step - loss: 1.0892 - acc: 0.6279 - val_loss: 1.4534 - val_acc: 0.4925\n",
      "Epoch 20/50\n",
      "50000/50000 [==============================] - 7s 135us/step - loss: 1.0652 - acc: 0.6372 - val_loss: 1.4688 - val_acc: 0.4879\n",
      "Epoch 21/50\n",
      "50000/50000 [==============================] - 7s 143us/step - loss: 1.0441 - acc: 0.6449 - val_loss: 1.4483 - val_acc: 0.4965\n",
      "Epoch 22/50\n",
      "50000/50000 [==============================] - 7s 131us/step - loss: 1.0224 - acc: 0.6568 - val_loss: 1.4565 - val_acc: 0.4907\n",
      "Epoch 23/50\n",
      "50000/50000 [==============================] - 7s 134us/step - loss: 1.0013 - acc: 0.6639 - val_loss: 1.4610 - val_acc: 0.4913\n",
      "Epoch 24/50\n",
      "50000/50000 [==============================] - 7s 133us/step - loss: 0.9813 - acc: 0.6689 - val_loss: 1.4517 - val_acc: 0.4999\n",
      "Epoch 25/50\n",
      "50000/50000 [==============================] - 7s 141us/step - loss: 0.9617 - acc: 0.6780 - val_loss: 1.4499 - val_acc: 0.5001\n",
      "Epoch 26/50\n",
      "50000/50000 [==============================] - 7s 132us/step - loss: 0.9420 - acc: 0.6852 - val_loss: 1.4652 - val_acc: 0.4956\n",
      "Epoch 27/50\n",
      "50000/50000 [==============================] - 7s 133us/step - loss: 0.9202 - acc: 0.6939 - val_loss: 1.4626 - val_acc: 0.4984\n",
      "Epoch 28/50\n",
      "50000/50000 [==============================] - 7s 134us/step - loss: 0.8999 - acc: 0.7016 - val_loss: 1.4611 - val_acc: 0.4972\n",
      "Epoch 29/50\n",
      "50000/50000 [==============================] - 7s 133us/step - loss: 0.8796 - acc: 0.7097 - val_loss: 1.4718 - val_acc: 0.4967\n",
      "Epoch 30/50\n",
      "50000/50000 [==============================] - 7s 137us/step - loss: 0.8575 - acc: 0.7183 - val_loss: 1.4698 - val_acc: 0.4999\n",
      "Epoch 31/50\n",
      "50000/50000 [==============================] - 7s 133us/step - loss: 0.8382 - acc: 0.7266 - val_loss: 1.4883 - val_acc: 0.4986\n",
      "Epoch 32/50\n",
      "50000/50000 [==============================] - 7s 138us/step - loss: 0.8173 - acc: 0.7345 - val_loss: 1.4878 - val_acc: 0.4997\n",
      "Epoch 33/50\n",
      "50000/50000 [==============================] - 7s 142us/step - loss: 0.8007 - acc: 0.7396 - val_loss: 1.5169 - val_acc: 0.4914\n",
      "Epoch 34/50\n",
      "50000/50000 [==============================] - 7s 131us/step - loss: 0.7810 - acc: 0.7493 - val_loss: 1.5042 - val_acc: 0.4975\n",
      "Epoch 35/50\n",
      "50000/50000 [==============================] - 7s 132us/step - loss: 0.7618 - acc: 0.7567 - val_loss: 1.4992 - val_acc: 0.4983\n",
      "Epoch 36/50\n",
      "50000/50000 [==============================] - 7s 131us/step - loss: 0.7419 - acc: 0.7644 - val_loss: 1.5103 - val_acc: 0.4998\n",
      "Epoch 37/50\n",
      "50000/50000 [==============================] - 7s 131us/step - loss: 0.7252 - acc: 0.7710 - val_loss: 1.5316 - val_acc: 0.4952\n",
      "Epoch 38/50\n",
      "50000/50000 [==============================] - 7s 132us/step - loss: 0.7058 - acc: 0.7770 - val_loss: 1.5354 - val_acc: 0.4931\n",
      "Epoch 39/50\n",
      "50000/50000 [==============================] - 7s 132us/step - loss: 0.6882 - acc: 0.7835 - val_loss: 1.5461 - val_acc: 0.4951\n",
      "Epoch 40/50\n",
      "50000/50000 [==============================] - 7s 149us/step - loss: 0.6701 - acc: 0.7923 - val_loss: 1.5460 - val_acc: 0.4963\n",
      "Epoch 41/50\n",
      "50000/50000 [==============================] - 7s 148us/step - loss: 0.6528 - acc: 0.7984 - val_loss: 1.5883 - val_acc: 0.4907\n",
      "Epoch 42/50\n",
      "50000/50000 [==============================] - 7s 137us/step - loss: 0.6336 - acc: 0.8066 - val_loss: 1.5708 - val_acc: 0.4933\n",
      "Epoch 43/50\n",
      "50000/50000 [==============================] - 7s 149us/step - loss: 0.6159 - acc: 0.8145 - val_loss: 1.6022 - val_acc: 0.4836\n",
      "Epoch 44/50\n",
      "50000/50000 [==============================] - 7s 146us/step - loss: 0.5975 - acc: 0.8196 - val_loss: 1.6017 - val_acc: 0.4858\n",
      "Epoch 45/50\n",
      "50000/50000 [==============================] - 7s 139us/step - loss: 0.5811 - acc: 0.8270 - val_loss: 1.6101 - val_acc: 0.4891\n",
      "Epoch 46/50\n",
      "50000/50000 [==============================] - 7s 146us/step - loss: 0.5634 - acc: 0.8345 - val_loss: 1.6224 - val_acc: 0.4853\n",
      "Epoch 47/50\n",
      "50000/50000 [==============================] - 7s 144us/step - loss: 0.5458 - acc: 0.8412 - val_loss: 1.6245 - val_acc: 0.4939\n",
      "Epoch 48/50\n",
      "50000/50000 [==============================] - 7s 149us/step - loss: 0.5294 - acc: 0.8468 - val_loss: 1.6536 - val_acc: 0.4867\n",
      "Epoch 49/50\n"
     ]
    },
    {
     "name": "stdout",
     "output_type": "stream",
     "text": [
      "50000/50000 [==============================] - 7s 144us/step - loss: 0.5145 - acc: 0.8535 - val_loss: 1.7075 - val_acc: 0.4808\n",
      "Epoch 50/50\n",
      "50000/50000 [==============================] - 7s 142us/step - loss: 0.4989 - acc: 0.8593 - val_loss: 1.7137 - val_acc: 0.4817\n"
     ]
    },
    {
     "data": {
      "text/plain": [
       "<keras.callbacks.History at 0xb339111d0>"
      ]
     },
     "execution_count": 11,
     "metadata": {},
     "output_type": "execute_result"
    }
   ],
   "source": [
    "model = build_mlp(input_shape=x_train.shape[1:])\n",
    "model.summary()\n",
    "optimizer = keras.optimizers.SGD(lr=LEARNING_RATE, nesterov=True, momentum=MOMENTUM)\n",
    "model.compile(loss=\"categorical_crossentropy\", metrics=[\"accuracy\"], optimizer=optimizer)\n",
    "\n",
    "model.fit(x_train, y_train, \n",
    "          epochs=EPOCHS, \n",
    "          batch_size=BATCH_SIZE, \n",
    "          validation_data=(x_test, y_test), \n",
    "          shuffle=True,\n",
    "          callbacks=[model_ckpt]\n",
    "         )"
   ]
  },
  {
   "cell_type": "code",
   "execution_count": 12,
   "metadata": {},
   "outputs": [
    {
     "data": {
      "text/plain": [
       "array([[9.4924197e-02, 2.0235367e-01, 3.1001046e-02, ..., 1.4805693e-04,\n",
       "        2.0116448e-01, 1.0019191e-01],\n",
       "       [1.1524322e-02, 7.6797523e-02, 1.4678705e-03, ..., 4.5092958e-03,\n",
       "        8.7978137e-01, 2.3638651e-02],\n",
       "       [5.4806560e-01, 1.3418867e-02, 6.5929196e-03, ..., 1.5553605e-02,\n",
       "        6.4465553e-02, 3.4368384e-01],\n",
       "       ...,\n",
       "       [1.7572046e-03, 4.4093222e-06, 8.7479573e-01, ..., 1.7261244e-03,\n",
       "        2.6460335e-04, 1.0364537e-04],\n",
       "       [4.9585275e-02, 6.7966260e-02, 3.6688778e-01, ..., 4.8681416e-02,\n",
       "        3.1919945e-02, 2.9796761e-02],\n",
       "       [3.4251139e-03, 1.9322819e-04, 1.6258413e-01, ..., 4.5264161e-01,\n",
       "        2.2036660e-02, 3.3438364e-03]], dtype=float32)"
      ]
     },
     "execution_count": 12,
     "metadata": {},
     "output_type": "execute_result"
    }
   ],
   "source": [
    "model.predict(x_test)"
   ]
  }
 ],
 "metadata": {
  "anaconda-cloud": {},
  "kernelspec": {
   "display_name": "Python 3",
   "language": "python",
   "name": "python3"
  },
  "language_info": {
   "codemirror_mode": {
    "name": "ipython",
    "version": 3
   },
   "file_extension": ".py",
   "mimetype": "text/x-python",
   "name": "python",
   "nbconvert_exporter": "python",
   "pygments_lexer": "ipython3",
   "version": "3.6.7"
  }
 },
 "nbformat": 4,
 "nbformat_minor": 2
}
